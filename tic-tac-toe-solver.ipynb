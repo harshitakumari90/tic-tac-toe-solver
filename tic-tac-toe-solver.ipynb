{
  "nbformat": 4,
  "nbformat_minor": 0,
  "metadata": {
    "colab": {
      "provenance": []
    },
    "kernelspec": {
      "name": "python3",
      "display_name": "Python 3"
    },
    "language_info": {
      "name": "python"
    }
  },
  "cells": [
    {
      "cell_type": "code",
      "execution_count": null,
      "metadata": {
        "id": "0WQ5FFvrgFbz"
      },
      "outputs": [],
      "source": [
        "#TIC TAC TOE SOLVER"
      ]
    },
    {
      "cell_type": "code",
      "source": [
        "!pip install matplotlib"
      ],
      "metadata": {
        "colab": {
          "base_uri": "https://localhost:8080/"
        },
        "id": "S_q--le4iKMn",
        "outputId": "d3bec887-d8a6-432f-bb8f-838e331dabd9"
      },
      "execution_count": 3,
      "outputs": [
        {
          "output_type": "stream",
          "name": "stdout",
          "text": [
            "Requirement already satisfied: matplotlib in /usr/local/lib/python3.11/dist-packages (3.10.0)\n",
            "Requirement already satisfied: contourpy>=1.0.1 in /usr/local/lib/python3.11/dist-packages (from matplotlib) (1.3.1)\n",
            "Requirement already satisfied: cycler>=0.10 in /usr/local/lib/python3.11/dist-packages (from matplotlib) (0.12.1)\n",
            "Requirement already satisfied: fonttools>=4.22.0 in /usr/local/lib/python3.11/dist-packages (from matplotlib) (4.56.0)\n",
            "Requirement already satisfied: kiwisolver>=1.3.1 in /usr/local/lib/python3.11/dist-packages (from matplotlib) (1.4.8)\n",
            "Requirement already satisfied: numpy>=1.23 in /usr/local/lib/python3.11/dist-packages (from matplotlib) (1.26.4)\n",
            "Requirement already satisfied: packaging>=20.0 in /usr/local/lib/python3.11/dist-packages (from matplotlib) (24.2)\n",
            "Requirement already satisfied: pillow>=8 in /usr/local/lib/python3.11/dist-packages (from matplotlib) (11.1.0)\n",
            "Requirement already satisfied: pyparsing>=2.3.1 in /usr/local/lib/python3.11/dist-packages (from matplotlib) (3.2.1)\n",
            "Requirement already satisfied: python-dateutil>=2.7 in /usr/local/lib/python3.11/dist-packages (from matplotlib) (2.8.2)\n",
            "Requirement already satisfied: six>=1.5 in /usr/local/lib/python3.11/dist-packages (from python-dateutil>=2.7->matplotlib) (1.17.0)\n"
          ]
        }
      ]
    },
    {
      "cell_type": "code",
      "source": [
        "import matplotlib as mp\n",
        "import matplotlib.pyplot as plt\n",
        "import numpy as np\n",
        "np.random.seed(0)\n",
        "data=np.random.rand(3,3)\n",
        "plt.imshow(data,cmap='hot',interpolation='nearest')\n",
        "plt.show()\n"
      ],
      "metadata": {
        "colab": {
          "base_uri": "https://localhost:8080/",
          "height": 435
        },
        "id": "nxUzTfUxgKHH",
        "outputId": "4ebed461-f981-4ebd-9dc0-7af9935ca822"
      },
      "execution_count": 5,
      "outputs": [
        {
          "output_type": "display_data",
          "data": {
            "text/plain": [
              "<Figure size 640x480 with 1 Axes>"
            ],
            "image/png": "[encoded data removed]"
          },
          "metadata": {}
        }
      ]
    },
    {
      "cell_type": "code",
      "source": [
        "import numpy as np\n",
        "import random\n",
        "from time import sleep\n",
        "\n",
        "# Creates an empty board\n",
        "def create_board():\n",
        "\treturn(np.array([[0, 0, 0],\n",
        "\t\t\t\t\t[0, 0, 0],\n",
        "\t\t\t\t\t[0, 0, 0]]))\n",
        "\n",
        "# Check for empty places on board\n",
        "def possibilities(board):\n",
        "\tl = []\n",
        "\n",
        "\tfor i in range(len(board)):\n",
        "\t\tfor j in range(len(board)):\n",
        "\n",
        "\t\t\tif board[i][j] == 0:\n",
        "\t\t\t\tl.append((i, j))\n",
        "\treturn(l)\n",
        "\n",
        "# Select a random place for the player\n",
        "def random_place(board, player):\n",
        "\tselection = possibilities(board)\n",
        "\tcurrent_loc = random.choice(selection)\n",
        "\tboard[current_loc] = player\n",
        "\treturn(board)\n",
        "\n",
        "# Checks whether the player has three\n",
        "# of their marks in a horizontal row\n",
        "def row_win(board, player):\n",
        "\tfor x in range(len(board)):\n",
        "\t\twin = True\n",
        "\n",
        "\t\tfor y in range(len(board)):\n",
        "\t\t\tif board[x, y] != player:\n",
        "\t\t\t\twin = False\n",
        "\t\t\t\tcontinue\n",
        "\n",
        "\t\tif win == True:\n",
        "\t\t\treturn(win)\n",
        "\treturn(win)\n",
        "\n",
        "# Checks whether the player has three\n",
        "# of their marks in a vertical row\n",
        "def col_win(board, player):\n",
        "\tfor x in range(len(board)):\n",
        "\t\twin = True\n",
        "\n",
        "\t\tfor y in range(len(board)):\n",
        "\t\t\tif board[y][x] != player:\n",
        "\t\t\t\twin = False\n",
        "\t\t\t\tcontinue\n",
        "\n",
        "\t\tif win == True:\n",
        "\t\t\treturn(win)\n",
        "\treturn(win)\n",
        "\n",
        "# Checks whether the player has three\n",
        "# of their marks in a diagonal row\n",
        "def diag_win(board, player):\n",
        "\twin = True\n",
        "\ty = 0\n",
        "\tfor x in range(len(board)):\n",
        "\t\tif board[x, x] != player:\n",
        "\t\t\twin = False\n",
        "\tif win:\n",
        "\t\treturn win\n",
        "\twin = True\n",
        "\tif win:\n",
        "\t\tfor x in range(len(board)):\n",
        "\t\t\ty = len(board) - 1 - x\n",
        "\t\t\tif board[x, y] != player:\n",
        "\t\t\t\twin = False\n",
        "\treturn win\n",
        "\n",
        "# Evaluates whether there is\n",
        "# a winner or a tie\n",
        "def evaluate(board):\n",
        "\twinner = 0\n",
        "\n",
        "\tfor player in [1, 2]:\n",
        "\t\tif (row_win(board, player) or\n",
        "\t\t\t\tcol_win(board, player) or\n",
        "\t\t\t\tdiag_win(board, player)):\n",
        "\n",
        "\t\t\twinner = player\n",
        "\n",
        "\tif np.all(board != 0) and winner == 0:\n",
        "\t\twinner = -1\n",
        "\treturn winner\n",
        "\n",
        "# Main function to start the game\n",
        "def play_game():\n",
        "\tboard, winner, counter = create_board(), 0, 1\n",
        "\tprint(board)\n",
        "\tsleep(2)\n",
        "\n",
        "\twhile winner == 0:\n",
        "\t\tfor player in [1, 2]:\n",
        "\t\t\tboard = random_place(board, player)\n",
        "\t\t\tprint(\"Board after \" + str(counter) + \" move\")\n",
        "\t\t\tprint(board)\n",
        "\t\t\tsleep(2)\n",
        "\t\t\tcounter += 1\n",
        "\t\t\twinner = evaluate(board)\n",
        "\t\t\tif winner != 0:\n",
        "\t\t\t\tbreak\n",
        "\treturn(winner)\n",
        "print(\"Winner is: \" + str(play_game()))\n"
      ],
      "metadata": {
        "colab": {
          "base_uri": "https://localhost:8080/"
        },
        "id": "qRJtt0nKiXLU",
        "outputId": "e4040276-bafa-412d-d2be-3d718f9dc9ac"
      },
      "execution_count": 6,
      "outputs": [
        {
          "output_type": "stream",
          "name": "stdout",
          "text": [
            "[[0 0 0]\n",
            " [0 0 0]\n",
            " [0 0 0]]\n",
            "Board after 1 move\n",
            "[[0 1 0]\n",
            " [0 0 0]\n",
            " [0 0 0]]\n",
            "Board after 2 move\n",
            "[[2 1 0]\n",
            " [0 0 0]\n",
            " [0 0 0]]\n",
            "Board after 3 move\n",
            "[[2 1 0]\n",
            " [0 0 1]\n",
            " [0 0 0]]\n",
            "Board after 4 move\n",
            "[[2 1 2]\n",
            " [0 0 1]\n",
            " [0 0 0]]\n",
            "Board after 5 move\n",
            "[[2 1 2]\n",
            " [1 0 1]\n",
            " [0 0 0]]\n",
            "Board after 6 move\n",
            "[[2 1 2]\n",
            " [1 0 1]\n",
            " [0 2 0]]\n",
            "Board after 7 move\n",
            "[[2 1 2]\n",
            " [1 1 1]\n",
            " [0 2 0]]\n",
            "Winner is: 1\n"
          ]
        }
      ]
    }
  ]
}
